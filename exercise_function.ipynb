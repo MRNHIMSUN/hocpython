{
 "cells": [
  {
   "cell_type": "markdown",
   "metadata": {},
   "source": [
    "1. Viết hàm tính tổng 2 số nguyên"
   ]
  },
  {
   "cell_type": "code",
   "execution_count": null,
   "metadata": {},
   "outputs": [],
   "source": [
    "\n",
    "def sum( a,b):\n",
    "    sum1= a+b\n",
    "    return(sum1)\n",
    "print('nhập vào 2 số nguyên bất kỳ')\n",
    "print('tổng của chúng là:',sum(int(input()),int(input())))"
   ]
  },
  {
   "cell_type": "markdown",
   "metadata": {},
   "source": [
    "2. tính hàm trung bình cộng của 1 danh sách"
   ]
  },
  {
   "cell_type": "code",
   "execution_count": null,
   "metadata": {},
   "outputs": [],
   "source": [
    "import re\n",
    "\n",
    "def isfloat(string):\n",
    "    pattern = '^[-+]?[0-9]*\\.?[0-9]+([eE][-+]?[0-9]+)?$'\n",
    "    return bool(re.match(pattern, string))\n",
    "#........................................................................................................................................\n",
    "\n",
    "print('nhập vào chuỗi gồm N số ( cách nhau bằng dấu \",\"):')\n",
    "input_str1= input()\n",
    "input_list=input_str1.split(',')\n",
    "cout=0\n",
    "for i in input_list:\n",
    "    cout+=1\n",
    "    if isfloat(i)==False:\n",
    "        print(' chuỗi đã nhập có 1 phần tử không phải là số thực xin nhập lại....')\n",
    "        break\n",
    "    else:\n",
    "        if cout==len(input_list) :\n",
    "          input_list1=list(map(float,input_list))\n",
    "          print(' list đã nhập là:',input_list1)\n",
    "def sumtb(input_list):\n",
    "    sum1=0\n",
    "    for i in input_list:\n",
    "        sum1=sum1+i\n",
    "    sumtb=sum1/len(input_list)\n",
    "    return(sumtb)\n",
    "print('giá trị trung bình là :',sumtb(input_list1))\n"
   ]
  },
  {
   "cell_type": "markdown",
   "metadata": {},
   "source": [
    "3. tính giai thừa của 1 số nguyên"
   ]
  },
  {
   "cell_type": "code",
   "execution_count": null,
   "metadata": {},
   "outputs": [],
   "source": [
    "print('nhập vào số nguyên bất kì:')\n",
    "def fatorial(a):\n",
    "    num=1\n",
    "    for i in range(1,a+1):\n",
    "        num= num*i\n",
    "    return(num)\n",
    "print(fatorial(int(input())))\n",
    "\n",
    "    "
   ]
  },
  {
   "cell_type": "markdown",
   "metadata": {},
   "source": [
    "4. viết hàm kiểm tra xem số đó có phải số nguyên tố không"
   ]
  },
  {
   "cell_type": "code",
   "execution_count": 15,
   "metadata": {},
   "outputs": [
    {
     "name": "stdout",
     "output_type": "stream",
     "text": [
      "nhập vào 1 số:\n",
      "số đó không  là số nguyên tố\n"
     ]
    }
   ],
   "source": [
    "def is_prime(n):\n",
    "    \"\"\"\n",
    "    Kiểm tra xem một số có phải là số nguyên tố hay không.\n",
    "\n",
    "    Args:\n",
    "        n (int): Số cần kiểm tra.\n",
    "\n",
    "    Returns:\n",
    "        bool: True nếu là số nguyên tố, False nếu không phải.\n",
    "    \"\"\"\n",
    "    if n < 2:\n",
    "        return False\n",
    "    for i in range(2, int(n ** 0.5) + 1):\n",
    "        if n % i == 0:\n",
    "            return False\n",
    "    return True\n",
    "print('nhập vào 1 số:')\n",
    "a= input()\n",
    "if is_prime(int(a)):\n",
    "    print('số đó không  là số nguyên tố')\n",
    "else:\n",
    "    print('số đó là số nguyên tố')"
   ]
  },
  {
   "cell_type": "markdown",
   "metadata": {},
   "source": [
    "5. viết hàm tìm kiếm phần tử trong list và trả về vị trí của phần tử đó trong list"
   ]
  },
  {
   "cell_type": "code",
   "execution_count": 29,
   "metadata": {},
   "outputs": [
    {
     "name": "stdout",
     "output_type": "stream",
     "text": [
      "vị trí số cần tìm là:\n",
      "0\n"
     ]
    }
   ],
   "source": [
    "def find_element_index(lst, element):\n",
    "    \"\"\"\n",
    "    Tìm kiếm một phần tử trong danh sách và trả về vị trí của phần tử đó.\n",
    "\n",
    "    Args:\n",
    "        lst (list): Danh sách cần tìm kiếm.\n",
    "        element: Phần tử cần tìm kiếm.\n",
    "\n",
    "    Returns:\n",
    "        int: Vị trí của phần tử đó trong danh sách, hoặc None nếu không tìm thấy phần tử đó trong danh sách.\n",
    "    \"\"\"\n",
    "    for i in range(len(lst)):\n",
    "        if lst[i] == element:\n",
    "            return i\n",
    "    return None\n",
    "print('vị trí số cần tìm là:')\n",
    "print(find_element_index([1,2,3,4,5,6],1 ))"
   ]
  },
  {
   "cell_type": "code",
   "execution_count": null,
   "metadata": {},
   "outputs": [],
   "source": []
  }
 ],
 "metadata": {
  "kernelspec": {
   "display_name": "Python 3.10.9 ('base')",
   "language": "python",
   "name": "python3"
  },
  "language_info": {
   "codemirror_mode": {
    "name": "ipython",
    "version": 3
   },
   "file_extension": ".py",
   "mimetype": "text/x-python",
   "name": "python",
   "nbconvert_exporter": "python",
   "pygments_lexer": "ipython3",
   "version": "3.10.9"
  },
  "orig_nbformat": 4,
  "vscode": {
   "interpreter": {
    "hash": "2043299c89c8cd0b4d1a6f5cf4529bd58e6a4e0fe3181a25e0d328c821cdc5c5"
   }
  }
 },
 "nbformat": 4,
 "nbformat_minor": 2
}
