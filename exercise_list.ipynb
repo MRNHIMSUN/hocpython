{
 "cells": [
  {
   "attachments": {},
   "cell_type": "markdown",
   "metadata": {},
   "source": [
    "1. Nhập 1 số nguyên N"
   ]
  },
  {
   "cell_type": "code",
   "execution_count": 17,
   "metadata": {
    "vscode": {
     "languageId": "markdown"
    }
   },
   "outputs": [
    {
     "name": "stdout",
     "output_type": "stream",
     "text": [
      "nhập vào số nguyên N:\n",
      "Số nguyên là  20\n"
     ]
    }
   ],
   "source": [
    "print('nhập vào số nguyên N:')\n",
    "input_int= input()\n",
    "if input_int.isdigit() :\n",
    "    print('Số nguyên là ',input_int)\n",
    "else :\n",
    "    print('số bạn nhập không phải số nguyên')"
   ]
  },
  {
   "attachments": {},
   "cell_type": "markdown",
   "metadata": {},
   "source": [
    "2. Nhập 1 List gồm N số thực"
   ]
  },
  {
   "cell_type": "code",
   "execution_count": 18,
   "metadata": {},
   "outputs": [
    {
     "name": "stdout",
     "output_type": "stream",
     "text": [
      "nhập vào chuỗi gồm N số ( cách nhau bằng dấu \",\"):\n",
      " list đã nhập là: [-9.0, -3.0, -2.0, -1.0, 0.0, 1.0, 4.0, 6.0, 9.0]\n"
     ]
    }
   ],
   "source": [
    "import re\n",
    "\n",
    "def isfloat(string):\n",
    "    pattern = '^[-+]?[0-9]*\\.?[0-9]+([eE][-+]?[0-9]+)?$'\n",
    "    return bool(re.match(pattern, string))\n",
    "#........................................................................................................................................\n",
    "\n",
    "print('nhập vào chuỗi gồm N số ( cách nhau bằng dấu \",\"):')\n",
    "input_str1= input()\n",
    "input_list=input_str1.split(',')\n",
    "if len(input_list)>=int(input_int):\n",
    "    print('list quá dài mời nhập lại....')\n",
    "else:\n",
    " cout=0\n",
    " for i in input_list:\n",
    "    cout+=1\n",
    "    if isfloat(i)==False:\n",
    "        print(' chuỗi đã nhập có 1 phần tử không phải là số thực xin nhập lại....')\n",
    "        break\n",
    "    else:\n",
    "        if cout==len(input_list) :\n",
    "          input_list1=list(map(float,input_list))\n",
    "          print(' list đã nhập là:',input_list1)"
   ]
  },
  {
   "attachments": {},
   "cell_type": "markdown",
   "metadata": {},
   "source": [
    "3. Tìm số lớn nhất trong liss"
   ]
  },
  {
   "cell_type": "code",
   "execution_count": 19,
   "metadata": {},
   "outputs": [
    {
     "name": "stdout",
     "output_type": "stream",
     "text": [
      "số lớn nhất trong mảng là : 9.0\n"
     ]
    }
   ],
   "source": [
    "value1= input_list1[0]\n",
    "for i in input_list1:\n",
    "    if  i <= value1: \n",
    "        value1=value1\n",
    "    else:\n",
    "        value1=i\n",
    "print('số lớn nhất trong mảng là :',value1)"
   ]
  },
  {
   "attachments": {},
   "cell_type": "markdown",
   "metadata": {},
   "source": [
    "4. Tìm số nhỏ nhất trong list"
   ]
  },
  {
   "cell_type": "code",
   "execution_count": 20,
   "metadata": {},
   "outputs": [
    {
     "name": "stdout",
     "output_type": "stream",
     "text": [
      "số nhỏ nhất trong mảng là : -9.0\n"
     ]
    }
   ],
   "source": [
    "value2=input_list1[0]\n",
    "for i in input_list1:\n",
    "    if i < value2: \n",
    "        value2=i\n",
    "    else:\n",
    "        value2=value2\n",
    "print('số nhỏ nhất trong mảng là :',value2)"
   ]
  },
  {
   "attachments": {},
   "cell_type": "markdown",
   "metadata": {},
   "source": [
    "5. Tìm số dương chẵn lớn nhất trong list"
   ]
  },
  {
   "cell_type": "code",
   "execution_count": 21,
   "metadata": {},
   "outputs": [
    {
     "name": "stdout",
     "output_type": "stream",
     "text": [
      "số lớn nhất trong mảng là : 6.0\n"
     ]
    }
   ],
   "source": [
    "value3= input_list1[0]\n",
    "cout1=0\n",
    "for i in input_list1:\n",
    "    if i%2!=0:\n",
    "        cout1+=1\n",
    "    elif  i <= value3 and i%2==0: \n",
    "        value1=value3\n",
    "    elif i%2==0:\n",
    "        value3=i\n",
    "if cout1==len(input_list1):\n",
    "      print('list không có số chẵn mời nhập lại:')\n",
    "elif value3<0 :\n",
    "    print('số lớn nhất trong mảng không phải là số dương mời nhập lại list.....')\n",
    "else:\n",
    "    print('số lớn nhất trong mảng là :',value3)"
   ]
  },
  {
   "attachments": {},
   "cell_type": "markdown",
   "metadata": {},
   "source": [
    "6. Tìm số âm lẻ nhỏ nhất trong mảng"
   ]
  },
  {
   "cell_type": "code",
   "execution_count": 22,
   "metadata": {},
   "outputs": [
    {
     "name": "stdout",
     "output_type": "stream",
     "text": [
      "số nhỏ nhất trong mảng là : -9.0\n"
     ]
    }
   ],
   "source": [
    "value4= input_list1[0]\n",
    "cout2=0\n",
    "for i in input_list1:\n",
    "    if i%2==0:\n",
    "        cout2+=1\n",
    "    elif i < value4 and i%2!=0: \n",
    "        value4=i\n",
    "    elif i%2!=0:\n",
    "        value4=value4\n",
    "if cout1==len(input_list1):\n",
    "      print('list không có số lẻ mời nhập lại:')\n",
    "elif value4>0 :\n",
    "    print('số nhỏ nhất trong list không phải là số âm mời nhập lại list.....')\n",
    "else:\n",
    "    print('số nhỏ nhất trong mảng là :',value4)"
   ]
  },
  {
   "attachments": {},
   "cell_type": "markdown",
   "metadata": {},
   "source": [
    "7. Tìm các số chính phương trong mảng"
   ]
  },
  {
   "cell_type": "code",
   "execution_count": 23,
   "metadata": {},
   "outputs": [
    {
     "name": "stdout",
     "output_type": "stream",
     "text": [
      "các số chính phương của list [0, 1, 4, 9]\n"
     ]
    }
   ],
   "source": [
    "list1=[]\n",
    "for i in input_list1:\n",
    "    if i>=0 and int(i**0.5)**2==i:\n",
    "        list1=list1+[int(i)]\n",
    "if list1==[]:\n",
    "    print( ' list không có số chính phương')\n",
    "else:\n",
    "    print('các số chính phương của list',list1)"
   ]
  },
  {
   "attachments": {},
   "cell_type": "markdown",
   "metadata": {},
   "source": [
    "8. Tính tổng mảng"
   ]
  },
  {
   "cell_type": "code",
   "execution_count": 24,
   "metadata": {},
   "outputs": [
    {
     "name": "stdout",
     "output_type": "stream",
     "text": [
      "tổng list là: 5.0\n"
     ]
    }
   ],
   "source": [
    "sum1=0\n",
    "for i in input_list1:\n",
    "    sum1=sum1+i\n",
    "print('tổng list là:',sum1)"
   ]
  },
  {
   "attachments": {},
   "cell_type": "markdown",
   "metadata": {},
   "source": [
    "9. Tính trung bình các phần tử trong mảng"
   ]
  },
  {
   "cell_type": "code",
   "execution_count": 25,
   "metadata": {},
   "outputs": [
    {
     "name": "stdout",
     "output_type": "stream",
     "text": [
      "tổng list là: 0.5555555555555556\n"
     ]
    }
   ],
   "source": [
    "sumtb=sum1/len(input_list)\n",
    "print('tổng list là:',sumtb)\n"
   ]
  },
  {
   "attachments": {},
   "cell_type": "markdown",
   "metadata": {},
   "source": [
    "10. Tìm các phần tử lớn hơn giá trị trung bình"
   ]
  },
  {
   "cell_type": "code",
   "execution_count": 29,
   "metadata": {},
   "outputs": [
    {
     "name": "stdout",
     "output_type": "stream",
     "text": [
      "các số lớn hơn giá trị trung bình của list là: [1.0, 4.0, 6.0, 9.0]\n"
     ]
    }
   ],
   "source": [
    "list2=[]\n",
    "for i in input_list1:\n",
    "    if i>sumtb:\n",
    "        list2=list2+[i]\n",
    "print('các số lớn hơn giá trị trung bình của list là:',list2)"
   ]
  },
  {
   "cell_type": "code",
   "execution_count": null,
   "metadata": {},
   "outputs": [],
   "source": []
  }
 ],
 "metadata": {
  "kernelspec": {
   "display_name": "Python 3.10.9 ('base')",
   "language": "python",
   "name": "python3"
  },
  "language_info": {
   "codemirror_mode": {
    "name": "ipython",
    "version": 3
   },
   "file_extension": ".py",
   "mimetype": "text/x-python",
   "name": "python",
   "nbconvert_exporter": "python",
   "pygments_lexer": "ipython3",
   "version": "3.11.3"
  },
  "orig_nbformat": 4,
  "vscode": {
   "interpreter": {
    "hash": "2043299c89c8cd0b4d1a6f5cf4529bd58e6a4e0fe3181a25e0d328c821cdc5c5"
   }
  }
 },
 "nbformat": 4,
 "nbformat_minor": 2
}
